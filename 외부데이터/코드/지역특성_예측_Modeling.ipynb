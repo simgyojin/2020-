{
  "nbformat": 4,
  "nbformat_minor": 0,
  "metadata": {
    "colab": {
      "name": "지역특성 예측 Modeling.ipynb",
      "provenance": [],
      "authorship_tag": "ABX9TyP/KKHyA7t3wbAI+fsrv2vV",
      "include_colab_link": true
    },
    "kernelspec": {
      "name": "python3",
      "display_name": "Python 3"
    }
  },
  "cells": [
    {
      "cell_type": "markdown",
      "metadata": {
        "id": "view-in-github",
        "colab_type": "text"
      },
      "source": [
        "<a href=\"https://colab.research.google.com/github/simgyojin/2020-Bigdata-Finance-Challenge/blob/main/%EC%99%B8%EB%B6%80%EB%8D%B0%EC%9D%B4%ED%84%B0/%EC%BD%94%EB%93%9C/%EC%A7%80%EC%97%AD%ED%8A%B9%EC%84%B1_%EC%98%88%EC%B8%A1_Modeling.ipynb\" target=\"_parent\"><img src=\"https://colab.research.google.com/assets/colab-badge.svg\" alt=\"Open In Colab\"/></a>"
      ]
    },
    {
      "cell_type": "markdown",
      "metadata": {
        "id": "nr_xLnG0BeRb"
      },
      "source": [
        "#인구형태와 소비형태로 지역 군집화\n",
        "###K-MEANS 기법을 사용하여 군집화"
      ]
    },
    {
      "cell_type": "code",
      "metadata": {
        "id": "Ui7r_Ghe_gMm"
      },
      "source": [
        ""
      ],
      "execution_count": null,
      "outputs": []
    }
  ]
}