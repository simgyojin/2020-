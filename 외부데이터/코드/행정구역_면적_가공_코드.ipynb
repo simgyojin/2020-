{
  "nbformat": 4,
  "nbformat_minor": 0,
  "metadata": {
    "colab": {
      "name": "행정구역_면적 가공 코드",
      "provenance": [],
      "authorship_tag": "ABX9TyMRHQui08q3M0wmdY5MAJDd",
      "include_colab_link": true
    },
    "kernelspec": {
      "name": "python3",
      "display_name": "Python 3"
    }
  },
  "cells": [
    {
      "cell_type": "markdown",
      "metadata": {
        "id": "view-in-github",
        "colab_type": "text"
      },
      "source": [
        "<a href=\"https://colab.research.google.com/github/simgyojin/2020-Bigdata-Finance-Challenge/blob/main/%EC%99%B8%EB%B6%80%EB%8D%B0%EC%9D%B4%ED%84%B0/%EC%BD%94%EB%93%9C/%ED%96%89%EC%A0%95%EA%B5%AC%EC%97%AD_%EB%A9%B4%EC%A0%81_%EA%B0%80%EA%B3%B5_%EC%BD%94%EB%93%9C.ipynb\" target=\"_parent\"><img src=\"https://colab.research.google.com/assets/colab-badge.svg\" alt=\"Open In Colab\"/></a>"
      ]
    },
    {
      "cell_type": "markdown",
      "metadata": {
        "id": "IqsdImSO7V8O"
      },
      "source": [
        "#행정구역 면적 가공 코드\n",
        "###행정구역_면적.csv를 행정코드별_면적.csv로 가공"
      ]
    },
    {
      "cell_type": "code",
      "metadata": {
        "id": "3KSwXlYW7PhE"
      },
      "source": [
        "import pandas as pd\n",
        "from google.colab import files\n",
        "import re\n",
        "get_num = re.compile('\\d+')\n",
        "files.upload()"
      ],
      "execution_count": null,
      "outputs": []
    },
    {
      "cell_type": "code",
      "metadata": {
        "id": "ICG7BRef8NWI"
      },
      "source": [
        "#필요한 데이터 파일\n",
        "district_df = pd.read_csv('행정구역(시군구)면적.csv', encoding='CP949')\n",
        "discode_df=pd.read_csv('행정동_20200814.csv')#, encoding='utf-8')\n",
        "popul_df=pd.read_csv('201904_05_인구현황.csv')\n",
        "\n",
        "#컬럼 명 [시군구명]으로 통일\n",
        "columns={'소재지(시군구)별(1)':'시도명','소재지(시군구)별(2)':'시군구명'}\n",
        "district_df.rename(columns = columns, inplace=True)\n",
        "\n",
        "#행정구역 행정코드로 전처리\n",
        "for i in  range(len(popul_df)):\n",
        "  popul_df['행정구역'][i] = int(get_num.findall(popul_df['행정구역'][i])[0])\n",
        "\n",
        "#필요없는 column 제거\n",
        "popul_df.drop(['2019년04월_세대수',\t'2019년04월_세대당 인구',\t'2019년05월_총인구수',\t\n",
        "               '2019년05월_세대수',\t'2019년05월_세대당 인구'], axis='columns', inplace=True)"
      ],
      "execution_count": null,
      "outputs": []
    },
    {
      "cell_type": "code",
      "metadata": {
        "id": "FcyH5jb9-NpH"
      },
      "source": [
        "#합집합\n",
        "merge_outer = pd.merge(discode_df,district_df, on='시군구명')\n",
        "\n",
        "#필요없는 column제거\n",
        "merge_outer.drop(['2019.1','2019.2','시도명_y','생성일자','말소일자'], axis='columns', inplace=True)\n",
        "\n",
        "#null값 제거  \n",
        "#시군구 수준이 지워져서 null값제거X\n",
        "#merge_outer=merge_outer.dropna(axis=0)\n",
        "\n",
        "#column 이름 변경\n",
        "columns={'2019':'면적(km^2)','시도명_x':'시도명'}\n",
        "merge_outer.rename(columns = columns, inplace=True)\n",
        "\n",
        "cc = {'행정구역':'행정동코드','2019년04월_총인구수':'인구수'}\n",
        "popul_df.rename(columns = cc, inplace=True)"
      ],
      "execution_count": null,
      "outputs": []
    },
    {
      "cell_type": "code",
      "metadata": {
        "id": "0vlS1noEM-zD"
      },
      "source": [
        "#합집합\n",
        "last_merge = pd.merge(merge_outer,popul_df, on='행정동코드')\n",
        "\n",
        "#123,232과 같은 형식 int형식으로 변경\n",
        "for i in range(len(last_merge)):\n",
        "  last_merge['인구수'][i] = int(last_merge['인구수'][i].replace(',',''))\n",
        "  last_merge['면적(km^2)'][i] = int(last_merge['면적(km^2)'][i].replace(',',''))*0.001\n",
        "\n",
        "#인구밀도 column추가\n",
        "last_merge['인구밀도']=last_merge['인구수']/last_merge['면적(km^2)']"
      ],
      "execution_count": null,
      "outputs": []
    },
    {
      "cell_type": "code",
      "metadata": {
        "id": "3y60Y_wiXaF-",
        "outputId": "febe7a3e-ce8a-41cb-c6e7-da89e1949e20",
        "colab": {
          "base_uri": "https://localhost:8080/",
          "height": 17
        }
      },
      "source": [
        "#csv파일로 저장\n",
        "last_merge.to_csv('인구밀도_가공_2019기준.csv',index=False, encoding='utf-8')\n",
        "\n",
        "#file다운로드\n",
        "files.download('인구밀도_가공_2019기준.csv')"
      ],
      "execution_count": null,
      "outputs": [
        {
          "output_type": "display_data",
          "data": {
            "application/javascript": [
              "\n",
              "    async function download(id, filename, size) {\n",
              "      if (!google.colab.kernel.accessAllowed) {\n",
              "        return;\n",
              "      }\n",
              "      const div = document.createElement('div');\n",
              "      const label = document.createElement('label');\n",
              "      label.textContent = `Downloading \"${filename}\": `;\n",
              "      div.appendChild(label);\n",
              "      const progress = document.createElement('progress');\n",
              "      progress.max = size;\n",
              "      div.appendChild(progress);\n",
              "      document.body.appendChild(div);\n",
              "\n",
              "      const buffers = [];\n",
              "      let downloaded = 0;\n",
              "\n",
              "      const channel = await google.colab.kernel.comms.open(id);\n",
              "      // Send a message to notify the kernel that we're ready.\n",
              "      channel.send({})\n",
              "\n",
              "      for await (const message of channel.messages) {\n",
              "        // Send a message to notify the kernel that we're ready.\n",
              "        channel.send({})\n",
              "        if (message.buffers) {\n",
              "          for (const buffer of message.buffers) {\n",
              "            buffers.push(buffer);\n",
              "            downloaded += buffer.byteLength;\n",
              "            progress.value = downloaded;\n",
              "          }\n",
              "        }\n",
              "      }\n",
              "      const blob = new Blob(buffers, {type: 'application/binary'});\n",
              "      const a = document.createElement('a');\n",
              "      a.href = window.URL.createObjectURL(blob);\n",
              "      a.download = filename;\n",
              "      div.appendChild(a);\n",
              "      a.click();\n",
              "      div.remove();\n",
              "    }\n",
              "  "
            ],
            "text/plain": [
              "<IPython.core.display.Javascript object>"
            ]
          },
          "metadata": {
            "tags": []
          }
        },
        {
          "output_type": "display_data",
          "data": {
            "application/javascript": [
              "download(\"download_ee9f0dbe-76ad-4036-843a-847423a0a32d\", \"\\uc778\\uad6c\\ubc00\\ub3c4_\\uac00\\uacf5_2019\\uae30\\uc900.csv\", 258176)"
            ],
            "text/plain": [
              "<IPython.core.display.Javascript object>"
            ]
          },
          "metadata": {
            "tags": []
          }
        }
      ]
    }
  ]
}