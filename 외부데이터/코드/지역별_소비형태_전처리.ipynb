{
  "nbformat": 4,
  "nbformat_minor": 0,
  "metadata": {
    "colab": {
      "name": "지역별 소비형태 전처리",
      "provenance": [],
      "collapsed_sections": [],
      "toc_visible": true,
      "authorship_tag": "ABX9TyOLubO1O6h01aRg7lAeVFmb",
      "include_colab_link": true
    },
    "kernelspec": {
      "name": "python3",
      "display_name": "Python 3"
    },
    "accelerator": "GPU"
  },
  "cells": [
    {
      "cell_type": "markdown",
      "metadata": {
        "id": "view-in-github",
        "colab_type": "text"
      },
      "source": [
        "<a href=\"https://colab.research.google.com/github/simgyojin/2020-Bigdata-Finance-Challenge/blob/main/%EC%99%B8%EB%B6%80%EB%8D%B0%EC%9D%B4%ED%84%B0/%EC%BD%94%EB%93%9C/%EC%A7%80%EC%97%AD%EB%B3%84_%EC%86%8C%EB%B9%84%ED%98%95%ED%83%9C_%EC%A0%84%EC%B2%98%EB%A6%AC.ipynb\" target=\"_parent\"><img src=\"https://colab.research.google.com/assets/colab-badge.svg\" alt=\"Open In Colab\"/></a>"
      ]
    },
    {
      "cell_type": "markdown",
      "metadata": {
        "id": "_iYY2hebCU5Z"
      },
      "source": [
        "#지역 특성을 추출하기 위해 지역별 소비형태 전처리\n",
        "###BC카드의 업종과 매출을 행정동코드별로 전처리"
      ]
    },
    {
      "cell_type": "code",
      "metadata": {
        "id": "TPpwREO0B7kg"
      },
      "source": [
        "import pandas as pd\n",
        "from google.colab import files\n",
        "import re\n",
        "get_num = re.compile('\\d+')\n",
        "get_eng = re.compile('[a-z]+')"
      ],
      "execution_count": null,
      "outputs": []
    },
    {
      "cell_type": "code",
      "metadata": {
        "id": "_9WsR3PdCe6X"
      },
      "source": [
        "#BC카드 거래내역 Data\n",
        "transaction1904 = pd.read_csv('거래내역_201904.csv', encoding='CP949')\n",
        "transaction1905 = pd.read_csv('거래내역_201905.csv', encoding='CP949')\n",
        "transaction2004 = pd.read_csv('거래내역_202004.csv', encoding='CP949')\n",
        "transaction2005 = pd.read_csv('거래내역_202005.csv', encoding='CP949')\n",
        "tt_code = pd.read_csv('공통코드.csv', encoding='CP949')\n",
        "\n",
        "\n",
        "#필요없는 columns제거\n",
        "transaction1904.drop(['생년','매출구분코드','할부개월수'], axis='columns', inplace=True)\n",
        "transaction1905.drop(['생년','매출구분코드','할부개월수'], axis='columns', inplace=True)\n",
        "transaction2004.drop(['생년','매출구분코드','할부개월수'], axis='columns', inplace=True)\n",
        "transaction2005.drop(['생년','매출구분코드','할부개월수'], axis='columns', inplace=True)\n",
        "tt_code.drop(['load_dtm','cent_cd'], axis='columns', inplace=True)\n",
        "\n",
        "#tt_code 보기 편하게 만들기\n",
        "tt_columns = {'tpbuz_cd':'가맹점업종코드','tpbuz_nm':'가맹점업종'}\n",
        "tt_code.rename(columns=tt_columns, inplace = True)"
      ],
      "execution_count": null,
      "outputs": []
    },
    {
      "cell_type": "markdown",
      "metadata": {
        "id": "wa5nFPmuIYxz"
      },
      "source": [
        "###가맹점 우편번호와 고객 우편번호를 행정동 코드로 변환"
      ]
    },
    {
      "cell_type": "code",
      "metadata": {
        "id": "NfmPqWGgIf4D"
      },
      "source": [
        "#우편번호를 한 파일로 통합\n",
        "all_postal = {}\n",
        "map = ['강원도','경기도','경상남도','경상북도','광주광역시','대구광역시','대전광역시','부산광역시','서울특별시','울산광역시','인천광역시',\n",
        "       '전라남도','전라북도','제주특별자치도','충청남도','충청북도']\n",
        "n = 0\n",
        "for i in map:\n",
        "  temp_list = []\n",
        "  with open ('부가정보_{}.txt'.format(i),'r', encoding='CP949') as FILE:\n",
        "    while True:\n",
        "      line = FILE.readline()\n",
        "      if not line:\n",
        "        break\n",
        "      temp = str(line).split('|')\n",
        "      temp_list = [temp[1], temp[3]]\n",
        "      all_postal[n] = temp_list\n",
        "      n+=1\n",
        "    "
      ],
      "execution_count": null,
      "outputs": []
    },
    {
      "cell_type": "code",
      "metadata": {
        "id": "TafFJ06iKsRk"
      },
      "source": [
        "#dataframe 형식으로 변환\n",
        "postal_df = pd.DataFrame(all_postal).T\n",
        "\n",
        "#columns 이름 붙이기\n",
        "postal_df.columns=['행정동코드', '우편번호']\n",
        "\n",
        "#csv파일로 저장\n",
        "postal_df.to_csv('행정동코드와 우편번호.csv',index=False, encoding='utf-8')\n",
        "\n",
        "#file다운로드\n",
        "files.download('행정동코드와 우편번호.csv')"
      ],
      "execution_count": null,
      "outputs": []
    },
    {
      "cell_type": "code",
      "metadata": {
        "id": "NxMXkH6uLrrF",
        "outputId": "77beee03-61bb-40d5-b7db-95b8f5710ce8",
        "colab": {
          "base_uri": "https://localhost:8080/",
          "height": 34
        }
      },
      "source": [
        "files.download('행정동코드와 우편번호.csv')"
      ],
      "execution_count": 46,
      "outputs": [
        {
          "output_type": "display_data",
          "data": {
            "application/javascript": [
              "\n",
              "    async function download(id, filename, size) {\n",
              "      if (!google.colab.kernel.accessAllowed) {\n",
              "        return;\n",
              "      }\n",
              "      const div = document.createElement('div');\n",
              "      const label = document.createElement('label');\n",
              "      label.textContent = `Downloading \"${filename}\": `;\n",
              "      div.appendChild(label);\n",
              "      const progress = document.createElement('progress');\n",
              "      progress.max = size;\n",
              "      div.appendChild(progress);\n",
              "      document.body.appendChild(div);\n",
              "\n",
              "      const buffers = [];\n",
              "      let downloaded = 0;\n",
              "\n",
              "      const channel = await google.colab.kernel.comms.open(id);\n",
              "      // Send a message to notify the kernel that we're ready.\n",
              "      channel.send({})\n",
              "\n",
              "      for await (const message of channel.messages) {\n",
              "        // Send a message to notify the kernel that we're ready.\n",
              "        channel.send({})\n",
              "        if (message.buffers) {\n",
              "          for (const buffer of message.buffers) {\n",
              "            buffers.push(buffer);\n",
              "            downloaded += buffer.byteLength;\n",
              "            progress.value = downloaded;\n",
              "          }\n",
              "        }\n",
              "      }\n",
              "      const blob = new Blob(buffers, {type: 'application/binary'});\n",
              "      const a = document.createElement('a');\n",
              "      a.href = window.URL.createObjectURL(blob);\n",
              "      a.download = filename;\n",
              "      div.appendChild(a);\n",
              "      a.click();\n",
              "      div.remove();\n",
              "    }\n",
              "  "
            ],
            "text/plain": [
              "<IPython.core.display.Javascript object>"
            ]
          },
          "metadata": {
            "tags": []
          }
        },
        {
          "output_type": "display_data",
          "data": {
            "application/javascript": [
              "download(\"download_87a52ecd-3191-40a9-be15-b8be6a739971\", \"\\ud589\\uc815\\ub3d9\\ucf54\\ub4dc\\uc640 \\uc6b0\\ud3b8\\ubc88\\ud638.csv\", 106621521)"
            ],
            "text/plain": [
              "<IPython.core.display.Javascript object>"
            ]
          },
          "metadata": {
            "tags": []
          }
        }
      ]
    }
  ]
}