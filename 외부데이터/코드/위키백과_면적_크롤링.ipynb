{
  "nbformat": 4,
  "nbformat_minor": 0,
  "metadata": {
    "colab": {
      "name": "위키백과 면적 크롤링.ipynb",
      "provenance": [],
      "authorship_tag": "ABX9TyPFy5CfRag+EPwiupZA/TUM",
      "include_colab_link": true
    },
    "kernelspec": {
      "name": "python3",
      "display_name": "Python 3"
    },
    "accelerator": "GPU"
  },
  "cells": [
    {
      "cell_type": "markdown",
      "metadata": {
        "id": "view-in-github",
        "colab_type": "text"
      },
      "source": [
        "<a href=\"https://colab.research.google.com/github/simgyojin/2020-Bigdata-Finance-Challenge/blob/main/%EC%99%B8%EB%B6%80%EB%8D%B0%EC%9D%B4%ED%84%B0/%EC%BD%94%EB%93%9C/%EC%9C%84%ED%82%A4%EB%B0%B1%EA%B3%BC_%EB%A9%B4%EC%A0%81_%ED%81%AC%EB%A1%A4%EB%A7%81.ipynb\" target=\"_parent\"><img src=\"https://colab.research.google.com/assets/colab-badge.svg\" alt=\"Open In Colab\"/></a>"
      ]
    },
    {
      "cell_type": "markdown",
      "metadata": {
        "id": "8MVwV8cPMoIg"
      },
      "source": [
        "#위키백과에서 면적 크롤링\n",
        "###행정동 별 면적을 얻기 위해 위키백과에 나와있는 면적을 토대로 행정동 별 인구 밀도 계산\n",
        "\n",
        "허점->001동, 00제3동 과 같은 행정동 이름 고려X"
      ]
    },
    {
      "cell_type": "code",
      "metadata": {
        "id": "JtS8m34SC4qS"
      },
      "source": [
        "!pip install Selenium\n",
        "!apt-get update # to update ubuntu to correctly run apt install\n",
        "!apt install chromium-chromedriver\n",
        "from selenium import webdriver\n",
        "from selenium.webdriver.common.by import By\n",
        "import pandas as pd\n",
        "from google.colab import files\n",
        "import re\n",
        "get_num = re.compile('\\d+')\n",
        "get_eng = re.compile('[a-z]+')\n",
        "#files.upload()"
      ],
      "execution_count": null,
      "outputs": []
    },
    {
      "cell_type": "code",
      "metadata": {
        "id": "oJGQgfQvLuFu"
      },
      "source": [
        "#전국 행정동 이름이 나와있는 csv파일\n",
        "district_df = pd.read_csv('행정동_20200814.csv', encoding='utf-8')\n",
        "district_list = list(district_df['읍면동명'])\n",
        "\n",
        "#인구밀도 가공 csv파일\n",
        "population_df = pd.read_csv('인구밀도_가공_최종.csv', encoding='utf-8')\n",
        "\n",
        "#필요없는 columns제거\n",
        "population_df.drop(['면적(km^2)','인구밀도'], axis='columns', inplace=True)"
      ],
      "execution_count": 282,
      "outputs": []
    },
    {
      "cell_type": "code",
      "metadata": {
        "id": "KZA9l9x8Se6j"
      },
      "source": [
        "#중복되는 행정동에는 시군구명 붙이기\n",
        "real_district_list=[]\n",
        "for n, district in enumerate(district_list):\n",
        "  if str(district) != 'nan':    #nan인 경우 제외\n",
        "    if district_list.count(district) >=2:   #행정동이 동명인 경우\n",
        "      if len(str(district_df['시군구명'][n]).split()) >= 2:  #'수원시 팔달구' 같이 시군구명 띄어쓰기가 되어 있으면 수원시만 가져옴\n",
        "        real_district_list.append('{} ({}),{}'.format(district,district_df['시군구명'][n].split()[0],n))\n",
        "      else:\n",
        "        if str(district_df['시도명'][n])[-1] == '시':       #특별시, 자치시와 같은 경우 위키백과에서 제대로된 데이터 가져오기 위해 사용\n",
        "          real_district_list.append('{} ({}),{}'.format(district,str(district_df['시도명'][n]).split()[0][:2],n))\n",
        "        else:\n",
        "          real_district_list.append('{} ({}),{}'.format(district,district_df['시군구명'][n],n))\n",
        "    else:\n",
        "      real_district_list.append('{},{}'.format(district,n))"
      ],
      "execution_count": 229,
      "outputs": []
    },
    {
      "cell_type": "code",
      "metadata": {
        "id": "oIAPS8GrEgkq"
      },
      "source": [
        "#위키 백과에서 행정동 면적을 크롤링 하는 코드\n",
        "#인구밀도가 나와있는 지역도 있지만, 없는 지역도 존재하여 면적만 크롤링\n",
        "def get_area(district_name):\n",
        "  url = 'https://ko.wikipedia.org/wiki/{}'.format(district_name)\n",
        "  driver.get(url)\n",
        "  area = driver.find_element_by_xpath('/html/body/div[3]/div[3]/div[5]/div[1]/table/tbody/tr[2]/td').text\n",
        "  area2 = driver.find_element_by_xpath('/html/body/div[3]/div[3]/div[5]/div[1]/table/tbody/tr[3]/td').text\n",
        "  area3 = driver.find_element_by_xpath('/html/body/div[3]/div[3]/div[5]/div[1]/table/tbody/tr[4]/td').text\n",
        "  area4 = driver.find_element_by_xpath('/html/body/div[3]/div[3]/div[5]/div[1]/table/tbody/tr[5]/td').text\n",
        "  area_list = [area4,area3,area2,area]\n",
        "  real_area=0\n",
        "  for aa in area_list:\n",
        "    if aa.count('km') >=1:\n",
        "      real_area=aa\n",
        "  return real_area.split()[0]"
      ],
      "execution_count": 230,
      "outputs": []
    },
    {
      "cell_type": "code",
      "metadata": {
        "id": "67AdU2AYFVz1"
      },
      "source": [
        "#chome driver사용\n",
        "'''\n",
        "chrome_options = webdriver.ChromeOptions()\n",
        "chrome_options.add_argument('--headless')\n",
        "chrome_options.add_argument('--no-sandbox')\n",
        "chrome_options.add_argument('--disable-dev-shm-usage')\n",
        "'''\n",
        "driver = webdriver.Chrome('chromedriver', chrome_options=chrome_options)\n",
        "\n",
        "#지역과 지역의 면적을 담을 dictionary\n",
        "district_area_dic={}\n",
        "\n",
        "#district_list내의 지역의 면적을 크롤링 real_district_list의 length:3558\n",
        "for n, district in enumerate(real_district_list):\n",
        "  ddistrint = district.split(',')[0]\n",
        "  nn = int(district.split(',')[1])\n",
        "  dd_list = []\n",
        "  try:\n",
        "    aa = get_area(ddistrint)\n",
        "    dd_list.append(aa)\n",
        "    dd_list.append(district_df['행정동코드'][nn])\n",
        "    print('{}번째: {} is doing-{}'.format(n, ddistrint,aa))\n",
        "  except:\n",
        "    try:\n",
        "      area = driver.find_element_by_xpath('//*[@id=\"mw-content-text\"]/div[1]/ul/li[1]/b/a')\n",
        "      last_url = area.get_attribute(\"href\").split('/')[-1]\n",
        "      aa = get_area(ddistrint)\n",
        "      dd_list.append(aa)\n",
        "      dd_list.append(district_df['행정동코드'][nn])\n",
        "      print('{}번째: {} is doing-{}'.format(n, ddistrint,aa))\n",
        "    except:\n",
        "      try:\n",
        "        area = driver.find_element_by_xpath('//*[@id=\"mw-content-text\"]/div[1]/ul/li[1]/a[3]')\n",
        "        last_url = area.get_attribute(\"href\").split('/')[-1]\n",
        "        aa = get_area(ddistrint)\n",
        "        dd_list.append(aa)\n",
        "        dd_list.append(district_df['행정동코드'][nn])\n",
        "        print('{}번째: {} is doing-{}'.format(n, ddistrint,aa))\n",
        "      except:\n",
        "        print('{}번째: {} is None'.format(n, ddistrint))\n",
        "  district_area_dic[ddistrint]=dd_list"
      ],
      "execution_count": null,
      "outputs": []
    },
    {
      "cell_type": "code",
      "metadata": {
        "id": "sFRer4ZtP6YW"
      },
      "source": [
        "#district_area_dic의 빈 행정동은 제거\n",
        "district_area_dd={}\n",
        "for i in district_area_dic:\n",
        "  if len(district_area_dic[i]) != 0:\n",
        "    district_area_dd[i.split(',')[0]]=district_area_dic[i]"
      ],
      "execution_count": 236,
      "outputs": []
    },
    {
      "cell_type": "code",
      "metadata": {
        "id": "RrrbSjyVuOYa"
      },
      "source": [
        "#dataframe 형식으로 변환하여 column명 생성\n",
        "district_dataframe = pd.DataFrame(district_area_dd).T\n",
        "district_dataframe.columns=['면적','행정동코드']"
      ],
      "execution_count": 251,
      "outputs": []
    },
    {
      "cell_type": "code",
      "metadata": {
        "id": "0Z6eE25h1XLz"
      },
      "source": [
        "#전처리 잘못된 두가지 바꿈\n",
        "for i in range(len(district_dataframe)):\n",
        "  dd = get_eng.findall(district_dataframe['면적'][i])\n",
        "  if len(dd)!=0:\n",
        "    want = get_num.findall(district_dataframe['면적'][i])\n",
        "    if len(want) >=1:\n",
        "      ww = '.'.join(want[:2])\n",
        "      district_dataframe['면적'][i] = float(ww)\n",
        "  else:\n",
        "    try:\n",
        "      district_dataframe['면적'][i] = float(district_dataframe['면적'][i])\n",
        "    except:\n",
        "      district_dataframe['면적'][i] = 63.82"
      ],
      "execution_count": 276,
      "outputs": []
    },
    {
      "cell_type": "code",
      "metadata": {
        "id": "AXR8PyLz0FKc"
      },
      "source": [
        "#df merge\n",
        "merge_df = pd.merge(population_df,district_dataframe, on='행정동코드')\n",
        "merge_df['2019인구밀도'] = merge_df['2019인구수']/merge_df['면적']\n",
        "merge_df['2020인구밀도'] = merge_df['2020인구수']/merge_df['면적']"
      ],
      "execution_count": 283,
      "outputs": []
    },
    {
      "cell_type": "code",
      "metadata": {
        "id": "YhR-PRHU4x1o",
        "outputId": "4ded235f-629c-4b65-ed74-9b7dff2704aa",
        "colab": {
          "base_uri": "https://localhost:8080/",
          "height": 17
        }
      },
      "source": [
        "#csv파일로 저장\n",
        "merge_df.to_csv('2019,2020 인구밀도 계산완료.csv',index=False, encoding='utf-8')\n",
        "\n",
        "#file다운로드\n",
        "files.download('2019,2020 인구밀도 계산완료.csv')"
      ],
      "execution_count": 285,
      "outputs": [
        {
          "output_type": "display_data",
          "data": {
            "application/javascript": [
              "\n",
              "    async function download(id, filename, size) {\n",
              "      if (!google.colab.kernel.accessAllowed) {\n",
              "        return;\n",
              "      }\n",
              "      const div = document.createElement('div');\n",
              "      const label = document.createElement('label');\n",
              "      label.textContent = `Downloading \"${filename}\": `;\n",
              "      div.appendChild(label);\n",
              "      const progress = document.createElement('progress');\n",
              "      progress.max = size;\n",
              "      div.appendChild(progress);\n",
              "      document.body.appendChild(div);\n",
              "\n",
              "      const buffers = [];\n",
              "      let downloaded = 0;\n",
              "\n",
              "      const channel = await google.colab.kernel.comms.open(id);\n",
              "      // Send a message to notify the kernel that we're ready.\n",
              "      channel.send({})\n",
              "\n",
              "      for await (const message of channel.messages) {\n",
              "        // Send a message to notify the kernel that we're ready.\n",
              "        channel.send({})\n",
              "        if (message.buffers) {\n",
              "          for (const buffer of message.buffers) {\n",
              "            buffers.push(buffer);\n",
              "            downloaded += buffer.byteLength;\n",
              "            progress.value = downloaded;\n",
              "          }\n",
              "        }\n",
              "      }\n",
              "      const blob = new Blob(buffers, {type: 'application/binary'});\n",
              "      const a = document.createElement('a');\n",
              "      a.href = window.URL.createObjectURL(blob);\n",
              "      a.download = filename;\n",
              "      div.appendChild(a);\n",
              "      a.click();\n",
              "      div.remove();\n",
              "    }\n",
              "  "
            ],
            "text/plain": [
              "<IPython.core.display.Javascript object>"
            ]
          },
          "metadata": {
            "tags": []
          }
        },
        {
          "output_type": "display_data",
          "data": {
            "application/javascript": [
              "download(\"download_004fbe39-bba3-42f1-8b08-559950f097b7\", \"2019,2020 \\uc778\\uad6c\\ubc00\\ub3c4 \\uacc4\\uc0b0\\uc644\\ub8cc.csv\", 238607)"
            ],
            "text/plain": [
              "<IPython.core.display.Javascript object>"
            ]
          },
          "metadata": {
            "tags": []
          }
        }
      ]
    }
  ]
}