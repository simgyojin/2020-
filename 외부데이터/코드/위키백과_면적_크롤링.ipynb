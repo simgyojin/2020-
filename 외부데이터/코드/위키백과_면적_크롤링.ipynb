{
  "nbformat": 4,
  "nbformat_minor": 0,
  "metadata": {
    "colab": {
      "name": "위키백과 면적 크롤링.ipynb",
      "provenance": [],
      "authorship_tag": "ABX9TyO32d5Qo/N82LZRndnU8tRw",
      "include_colab_link": true
    },
    "kernelspec": {
      "name": "python3",
      "display_name": "Python 3"
    },
    "accelerator": "GPU"
  },
  "cells": [
    {
      "cell_type": "markdown",
      "metadata": {
        "id": "view-in-github",
        "colab_type": "text"
      },
      "source": [
        "<a href=\"https://colab.research.google.com/github/simgyojin/2020-Bigdata-Finance-Challenge/blob/main/%EC%99%B8%EB%B6%80%EB%8D%B0%EC%9D%B4%ED%84%B0/%EC%BD%94%EB%93%9C/%EC%9C%84%ED%82%A4%EB%B0%B1%EA%B3%BC_%EB%A9%B4%EC%A0%81_%ED%81%AC%EB%A1%A4%EB%A7%81.ipynb\" target=\"_parent\"><img src=\"https://colab.research.google.com/assets/colab-badge.svg\" alt=\"Open In Colab\"/></a>"
      ]
    },
    {
      "cell_type": "markdown",
      "metadata": {
        "id": "8MVwV8cPMoIg"
      },
      "source": [
        "#위키백과에서 면적 크롤링\n",
        "###행정동 별 면적을 얻기 위해 위키백과에 나와있는 면적을 토대로 행정동 멸 인구 밀도 계산"
      ]
    },
    {
      "cell_type": "code",
      "metadata": {
        "id": "JtS8m34SC4qS"
      },
      "source": [
        "!pip install Selenium\n",
        "!apt-get update # to update ubuntu to correctly run apt install\n",
        "!apt install chromium-chromedriver\n",
        "from selenium import webdriver\n",
        "from selenium.webdriver.common.by import By\n",
        "import pandas as pd\n",
        "from google.colab import files\n",
        "import re\n",
        "get_num = re.compile('\\d+')\n",
        "#files.upload()"
      ],
      "execution_count": 27,
      "outputs": []
    },
    {
      "cell_type": "code",
      "metadata": {
        "id": "oJGQgfQvLuFu"
      },
      "source": [
        "#전국 행정동 이름이 나와있는 csv파일\n",
        "district_df = pd.read_csv('행정동_20200814.csv', encoding='utf-8')\n",
        "district_list = list(district_df['읍면동명'])\n",
        "\n",
        "#인구밀도 가공 csv파일\n",
        "population_df = pd.read_csv('인구밀도_가공_2019기준.csv', encoding='utf-8')"
      ],
      "execution_count": 77,
      "outputs": []
    },
    {
      "cell_type": "code",
      "metadata": {
        "id": "KZA9l9x8Se6j"
      },
      "source": [
        "#중복되는 행정동에는 시군구명 붙이기\n",
        "real_district_list=[]\n",
        "for n, district in enumerate(district_list):\n",
        "  if str(district) != 'nan':    #nan인 경우 제외\n",
        "    if district_list.count(district) >=2:   #행정동이 동명인 경우\n",
        "      if len(str(district_df['시군구명'][n]).split()) >= 2:  #수원시 팔달구 같이 시군구명이 되어 있으면 수원시만 가져옴\n",
        "        real_district_list.append('{} ({})'.format(district,district_df['시군구명'][n].split()[0]))\n",
        "      else:\n",
        "        if str(district_df['시도명'][n])[-1] == '시':       #특별시, 자치시와 같은 경우 위키백과에서 제대로된 데이터 가져오기 위해 사용\n",
        "          real_district_list.append('{} ({})'.format(district,str(district_df['시도명'][n]).split()[0][:2]))\n",
        "        else:\n",
        "          real_district_list.append('{} ({})'.format(district,district_df['시군구명'][n]))\n",
        "    else:\n",
        "      real_district_list.append(district)"
      ],
      "execution_count": 121,
      "outputs": []
    },
    {
      "cell_type": "code",
      "metadata": {
        "id": "oIAPS8GrEgkq"
      },
      "source": [
        "#위키 백과에서 행정동 면적을 크롤링 하는 코드\n",
        "#인구밀도가 나와있는 지역도 있지만, 없는 지역도 존재하여 면적만 크롤링\n",
        "def get_area(district_name):\n",
        "  url = 'https://ko.wikipedia.org/wiki/{}'.format(district_name)\n",
        "  driver.get(url)\n",
        "  area = driver.find_element_by_xpath('/html/body/div[3]/div[3]/div[5]/div[1]/table/tbody/tr[4]/td').text\n",
        "  return area"
      ],
      "execution_count": 68,
      "outputs": []
    },
    {
      "cell_type": "code",
      "metadata": {
        "id": "euhn63HJOi7o",
        "outputId": "1444cd32-5ef6-4b0c-c695-6fdce734b77a",
        "colab": {
          "base_uri": "https://localhost:8080/",
          "height": 70
        }
      },
      "source": [
        "#get_area test\n",
        "url = 'https://ko.wikipedia.org/wiki/{}'.format('임동')\n",
        "driver = webdriver.Chrome('chromedriver', chrome_options=chrome_options)\n",
        "driver.get(url)\n",
        "area = driver.find_element_by_xpath('/html/body/div[3]/div[3]/div[5]/div[1]/table/tbody/tr[4]/td').text\n",
        "print(area)"
      ],
      "execution_count": 69,
      "outputs": [
        {
          "output_type": "stream",
          "text": [
            "/usr/local/lib/python3.6/dist-packages/ipykernel_launcher.py:2: DeprecationWarning: use options instead of chrome_options\n",
            "  \n"
          ],
          "name": "stderr"
        },
        {
          "output_type": "stream",
          "text": [
            "1.22 km2\n"
          ],
          "name": "stdout"
        }
      ]
    },
    {
      "cell_type": "code",
      "metadata": {
        "id": "67AdU2AYFVz1"
      },
      "source": [
        "#chome driver사용\n",
        "'''\n",
        "chrome_options = webdriver.ChromeOptions()\n",
        "chrome_options.add_argument('--headless')\n",
        "chrome_options.add_argument('--no-sandbox')\n",
        "chrome_options.add_argument('--disable-dev-shm-usage')\n",
        "'''\n",
        "driver = webdriver.Chrome('chromedriver', chrome_options=chrome_options)\n",
        "\n",
        "#지역과 지역의 면적을 담을 dictionary\n",
        "district_area_dic={}\n",
        "\n",
        "#district_list내의 지역의 면적을 크롤링 real_district_list의 length:3558\n",
        "for n, district in enumerate(real_district_list):\n",
        "  try:\n",
        "    district_area_dic[district]=get_area(district)\n",
        "    print('{}번째: {} is doing'.format(n, district))\n",
        "  except:\n",
        "    try:\n",
        "      area = driver.find_element_by_xpath('//*[@id=\"mw-content-text\"]/div[1]/ul/li[1]/b/a')\n",
        "      last_url = area.get_attribute(\"href\").split('/')[-1]\n",
        "      district_area_dic[district]=get_area(last_url)\n",
        "      print('{}번째: {} is doing'.format(n, district))\n",
        "    except:\n",
        "      print('{}번째: {} is None'.format(n, district))"
      ],
      "execution_count": null,
      "outputs": []
    },
    {
      "cell_type": "code",
      "metadata": {
        "id": "sFRer4ZtP6YW",
        "outputId": "1f330a89-d9a1-4d75-d5a3-f75736e74d6b",
        "colab": {
          "base_uri": "https://localhost:8080/",
          "height": 195
        }
      },
      "source": [
        "district_df.head()"
      ],
      "execution_count": 111,
      "outputs": [
        {
          "output_type": "execute_result",
          "data": {
            "text/html": [
              "<div>\n",
              "<style scoped>\n",
              "    .dataframe tbody tr th:only-of-type {\n",
              "        vertical-align: middle;\n",
              "    }\n",
              "\n",
              "    .dataframe tbody tr th {\n",
              "        vertical-align: top;\n",
              "    }\n",
              "\n",
              "    .dataframe thead th {\n",
              "        text-align: right;\n",
              "    }\n",
              "</style>\n",
              "<table border=\"1\" class=\"dataframe\">\n",
              "  <thead>\n",
              "    <tr style=\"text-align: right;\">\n",
              "      <th></th>\n",
              "      <th>행정동코드</th>\n",
              "      <th>시도명</th>\n",
              "      <th>시군구명</th>\n",
              "      <th>읍면동명</th>\n",
              "      <th>생성일자</th>\n",
              "      <th>말소일자</th>\n",
              "    </tr>\n",
              "  </thead>\n",
              "  <tbody>\n",
              "    <tr>\n",
              "      <th>0</th>\n",
              "      <td>1100000000</td>\n",
              "      <td>서울특별시</td>\n",
              "      <td>NaN</td>\n",
              "      <td>NaN</td>\n",
              "      <td>19880423</td>\n",
              "      <td>NaN</td>\n",
              "    </tr>\n",
              "    <tr>\n",
              "      <th>1</th>\n",
              "      <td>1111000000</td>\n",
              "      <td>서울특별시</td>\n",
              "      <td>종로구</td>\n",
              "      <td>NaN</td>\n",
              "      <td>19880423</td>\n",
              "      <td>NaN</td>\n",
              "    </tr>\n",
              "    <tr>\n",
              "      <th>2</th>\n",
              "      <td>1111051500</td>\n",
              "      <td>서울특별시</td>\n",
              "      <td>종로구</td>\n",
              "      <td>청운효자동</td>\n",
              "      <td>20081101</td>\n",
              "      <td>NaN</td>\n",
              "    </tr>\n",
              "    <tr>\n",
              "      <th>3</th>\n",
              "      <td>1111053000</td>\n",
              "      <td>서울특별시</td>\n",
              "      <td>종로구</td>\n",
              "      <td>사직동</td>\n",
              "      <td>19880423</td>\n",
              "      <td>NaN</td>\n",
              "    </tr>\n",
              "    <tr>\n",
              "      <th>4</th>\n",
              "      <td>1111054000</td>\n",
              "      <td>서울특별시</td>\n",
              "      <td>종로구</td>\n",
              "      <td>삼청동</td>\n",
              "      <td>19880423</td>\n",
              "      <td>NaN</td>\n",
              "    </tr>\n",
              "  </tbody>\n",
              "</table>\n",
              "</div>"
            ],
            "text/plain": [
              "        행정동코드    시도명 시군구명   읍면동명      생성일자  말소일자\n",
              "0  1100000000  서울특별시  NaN    NaN  19880423   NaN\n",
              "1  1111000000  서울특별시  종로구    NaN  19880423   NaN\n",
              "2  1111051500  서울특별시  종로구  청운효자동  20081101   NaN\n",
              "3  1111053000  서울특별시  종로구    사직동  19880423   NaN\n",
              "4  1111054000  서울특별시  종로구    삼청동  19880423   NaN"
            ]
          },
          "metadata": {
            "tags": []
          },
          "execution_count": 111
        }
      ]
    },
    {
      "cell_type": "code",
      "metadata": {
        "id": "LFDJIt8lSMUp",
        "outputId": "d66d9eff-56fd-4513-a765-12eeef1588da",
        "colab": {
          "base_uri": "https://localhost:8080/",
          "height": 52
        }
      },
      "source": [
        "print(len(population_df))\n",
        "print(len(real_district_list))"
      ],
      "execution_count": 109,
      "outputs": [
        {
          "output_type": "stream",
          "text": [
            "3273\n",
            "3558\n"
          ],
          "name": "stdout"
        }
      ]
    }
  ]
}